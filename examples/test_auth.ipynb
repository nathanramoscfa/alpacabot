{
 "cells": [
  {
   "cell_type": "markdown",
   "id": "0",
   "metadata": {},
   "source": [
    "# Important Notice\n",
    "This notebook is designed for **manual testing** of the `auth.py` module.\n",
    "\n",
    "- Ensure that your `.env` file is properly configured with your Alpaca credentials.\n",
    "- Do **not** commit this notebook with outputs containing your sensitive credentials or account information.\n",
    "- Clear all outputs before saving and committing the notebook"
   ]
  },
  {
   "cell_type": "code",
   "execution_count": null,
   "id": "1",
   "metadata": {},
   "outputs": [],
   "source": [
    "from datetime import datetime\n",
    "from alpaca.data.requests import StockBarsRequest\n",
    "from alpaca.data.timeframe import TimeFrame\n",
    "import alpacabot.auth as auth"
   ]
  },
  {
   "cell_type": "code",
   "execution_count": null,
   "id": "2",
   "metadata": {},
   "outputs": [],
   "source": [
    "# Ensure the .env file is loaded\n",
    "from dotenv import load_dotenv\n",
    "load_dotenv()"
   ]
  },
  {
   "cell_type": "code",
   "execution_count": null,
   "id": "3",
   "metadata": {},
   "outputs": [],
   "source": [
    "# Set to True to use paper trading API keys\n",
    "# Set to False to use live trading API keys\n",
    "paper = True"
   ]
  },
  {
   "cell_type": "code",
   "execution_count": null,
   "id": "4",
   "metadata": {},
   "outputs": [],
   "source": [
    "# Retrieve API keys for paper trading\n",
    "api_key, secret_key = auth.get_api_keys(paper)\n",
    "print(\"API Key:\", api_key)\n",
    "print(\"Secret Key:\", secret_key)"
   ]
  },
  {
   "cell_type": "code",
   "execution_count": null,
   "id": "5",
   "metadata": {},
   "outputs": [],
   "source": [
    "# Test creating the trading client and fetching account details\n",
    "try:\n",
    "    trading_client = auth.get_trading_client(api_key, secret_key, paper)\n",
    "    account = trading_client.get_account()\n",
    "    print(\"Account ID:\", account.id)\n",
    "    print(\"Account Status:\", account.status)\n",
    "except Exception as e:\n",
    "    print(\"Error fetching trading client or account details:\", e)"
   ]
  },
  {
   "cell_type": "code",
   "execution_count": null,
   "id": "6",
   "metadata": {},
   "outputs": [],
   "source": [
    "# Test creating the historical data client and fetching historical data\n",
    "try:\n",
    "    historical_client = auth.get_historical_data_client(api_key, secret_key)\n",
    "    request_params = StockBarsRequest(\n",
    "        symbol_or_symbols=\"AAPL\",\n",
    "        timeframe=TimeFrame.Day,\n",
    "        start=datetime(2023, 1, 1),\n",
    "        end=datetime(2023, 1, 31),\n",
    "    )\n",
    "    response = historical_client.get_stock_bars(request_params)\n",
    "    print(\"Historical Data for AAPL:\", response.data[\"AAPL\"])\n",
    "except Exception as e:\n",
    "    print(\"Error fetching historical data:\", e)"
   ]
  }
 ],
 "metadata": {
  "kernelspec": {
   "display_name": "Python 3",
   "language": "python",
   "name": "python3"
  },
  "language_info": {
   "codemirror_mode": {
    "name": "ipython",
    "version": 2
   },
   "file_extension": ".py",
   "mimetype": "text/x-python",
   "name": "python",
   "nbconvert_exporter": "python",
   "pygments_lexer": "ipython2",
   "version": "2.7.6"
  }
 },
 "nbformat": 4,
 "nbformat_minor": 5
}
